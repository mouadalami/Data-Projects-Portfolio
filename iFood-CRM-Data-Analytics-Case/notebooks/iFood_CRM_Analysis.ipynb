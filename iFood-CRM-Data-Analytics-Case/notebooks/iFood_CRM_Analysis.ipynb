{
 "cells": [
  {
   "cell_type": "code",
   "execution_count": 2,
   "metadata": {},
   "outputs": [],
   "source": [
    "import pandas as pd\n",
    "import numpy as np\n",
    "import matplotlib.pyplot as plt\n",
    "import seaborn as sns\n",
    "from sklearn.model_selection import train_test_split\n",
    "from sklearn.linear_model import LogisticRegression\n",
    "from sklearn.metrics import accuracy_score, confusion_matrix"
   ]
  },
  {
   "cell_type": "code",
   "execution_count": 4,
   "metadata": {},
   "outputs": [
    {
     "name": "stdout",
     "output_type": "stream",
     "text": [
      "    Income  Kidhome  Teenhome  Recency  MntWines  MntFruits  MntMeatProducts  \\\n",
      "0  58138.0        0         0       58       635         88              546   \n",
      "1  46344.0        1         1       38        11          1                6   \n",
      "2  71613.0        0         0       26       426         49              127   \n",
      "3  26646.0        1         0       26        11          4               20   \n",
      "4  58293.0        1         0       94       173         43              118   \n",
      "\n",
      "   MntFishProducts  MntSweetProducts  MntGoldProds  ...  marital_Together  \\\n",
      "0              172                88            88  ...                 0   \n",
      "1                2                 1             6  ...                 0   \n",
      "2              111                21            42  ...                 1   \n",
      "3               10                 3             5  ...                 1   \n",
      "4               46                27            15  ...                 0   \n",
      "\n",
      "   marital_Widow  education_2n Cycle  education_Basic  education_Graduation  \\\n",
      "0              0                   0                0                     1   \n",
      "1              0                   0                0                     1   \n",
      "2              0                   0                0                     1   \n",
      "3              0                   0                0                     1   \n",
      "4              0                   0                0                     0   \n",
      "\n",
      "   education_Master  education_PhD  MntTotal  MntRegularProds  \\\n",
      "0                 0              0      1529             1441   \n",
      "1                 0              0        21               15   \n",
      "2                 0              0       734              692   \n",
      "3                 0              0        48               43   \n",
      "4                 0              1       407              392   \n",
      "\n",
      "   AcceptedCmpOverall  \n",
      "0                   0  \n",
      "1                   0  \n",
      "2                   0  \n",
      "3                   0  \n",
      "4                   0  \n",
      "\n",
      "[5 rows x 39 columns]\n"
     ]
    }
   ],
   "source": [
    "df = pd.read_csv('dataset/ifood_df.csv')\n",
    "\n",
    "print(df.head())"
   ]
  },
  {
   "cell_type": "code",
   "execution_count": 4,
   "metadata": {},
   "outputs": [
    {
     "name": "stdout",
     "output_type": "stream",
     "text": [
      "/Users/mouadalami/Desktop/DATA PROJECTS/MARKETING ANALYTICS\n"
     ]
    }
   ],
   "source": [
    "import os\n",
    "print(os.getcwd())  # Affiche le répertoire de travail actuel\n"
   ]
  },
  {
   "cell_type": "code",
   "execution_count": 5,
   "metadata": {},
   "outputs": [],
   "source": [
    "os.chdir('/Users/mouadalami/Documents/GitHub/Data-Projects-Portfolio')\n"
   ]
  },
  {
   "cell_type": "code",
   "execution_count": null,
   "metadata": {},
   "outputs": [],
   "source": []
  }
 ],
 "metadata": {
  "kernelspec": {
   "display_name": "base",
   "language": "python",
   "name": "python3"
  },
  "language_info": {
   "codemirror_mode": {
    "name": "ipython",
    "version": 3
   },
   "file_extension": ".py",
   "mimetype": "text/x-python",
   "name": "python",
   "nbconvert_exporter": "python",
   "pygments_lexer": "ipython3",
   "version": "3.11.7"
  }
 },
 "nbformat": 4,
 "nbformat_minor": 2
}
